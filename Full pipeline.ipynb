{
 "cells": [
  {
   "metadata": {
    "ExecuteTime": {
     "end_time": "2024-10-17T10:14:58.536833Z",
     "start_time": "2024-10-17T10:14:58.530504Z"
    }
   },
   "cell_type": "code",
   "source": [
    "# optional step\n",
    "import nltk\n",
    "nltk.download('punkt_tab')"
   ],
   "outputs": [
    {
     "name": "stderr",
     "output_type": "stream",
     "text": [
      "[nltk_data] Downloading package punkt_tab to\n",
      "[nltk_data]     C:\\Users\\RAYMOND\\AppData\\Roaming\\nltk_data...\n",
      "[nltk_data]   Package punkt_tab is already up-to-date!\n"
     ]
    },
    {
     "data": {
      "text/plain": [
       "True"
      ]
     },
     "execution_count": 12,
     "metadata": {},
     "output_type": "execute_result"
    }
   ],
   "execution_count": 12
  },
  {
   "cell_type": "code",
   "metadata": {
    "ExecuteTime": {
     "end_time": "2024-10-17T10:14:58.568965Z",
     "start_time": "2024-10-17T10:14:58.556231Z"
    }
   },
   "source": [
    "input_text = '''\n",
    "Romano's is the finest Italian restaurant in the city.\n",
    "Unless you are a celebrity or a good friend of Romano you will need a reservation.\n",
    "A reservation is made for a specific time, date and number of people.\n",
    "The reservation also captures the name and phone number of the person making the reservation.\n",
    "Each reservation is assigned a unique reservation number.\n",
    "There are two categories of reservations at Romano's: individual reservations and banquet reservations.\n",
    "Additional reservation information captured when an individual makes a reservation includes seating preference (inside or patio) and smoking preference (smoking or nonsmoking).\n",
    "Additional reservation information captured for banquet reservations includes the group name and the method of payment.\n",
    "Seating at Romano's is limited.\n",
    "Romano's has a fixed number of tables.\n",
    "Each table is identified by a unique table number.\n",
    "Each of the tables is further described by a unique free form description such as \"located by the North window\", \"located in front of the fountain\", \"by the kitchen door\".\n",
    "Each table is classified as a 2-person, 4-person or 6-person table.\n",
    "When a reservation is made, Romano associates a specific tal4 number(s) to the reservation.\n",
    "A table can be utilized many times over the evening by many reservations.\n",
    "Romano tends to overbook tables.\n",
    "Therefore, there can be overlapping table reservations.\n",
    "The management structure at Romano's is hierarchical.\n",
    "There are several restaurant managers who report to Romano.\n",
    "The managers are responsible for managing the Maitre'd and the chefs as well as ensuring that the guests have a pleasant dining experience.\n",
    "The Maitre'd is responsible for managing the waiters, bartenders and bus personnel.\n",
    "The Chefs are responsible for managing the cooks and dishwashers.\n",
    "Each person working for Romano's must be classified as either a manager, Maitre'd, waiter ,bartender, chef, cook, bus person or dishwasher.\n",
    "Additional information maintained by Romano's for each person includes the persons name, date of birth and drivers license number.\n",
    "When the reservation party arrives at Romano's the reservation is assigned to one waiter.\n",
    "A waiter can be assigned to many reservations during the course of the evening.\n",
    "The menu at Romano's is exquisite.\n",
    "There are many exciting and exotic items.\n",
    "Each menu item is identified by a unique menu item number.\n",
    "Information maintained by Romano's for each menu item includes an item description of (e.g. \"chicken marsala\", \"fish soup\", \"endive salad\",\"1988 Merlot wine\", etc.), and item prep time.\n",
    "Each menu item is classified by Romano's as \"appetizer\", \"entree\", \"dessert\" or \"beverage\".\n",
    "The price of each menu item can vary based on the time of day.\n",
    "For example, some of the menu items have different lunch and dinner prices.\n",
    "Some of the menu items change prices for happy hour.\n",
    "In order to calculate the check at the end of the dinner, the waiter maintains a list, by reservation number, of the menu items ordered and the time that the menu item was ordered.\n",
    "In other words, each reservation can be associated with many menu items and a menu item can be associated with many reservations.\n",
    "In addition to menu items, Romano's maintains a list of the food items that are utilized by the restaurant such as chicken, mushrooms, bread sticks, red sauce, cream sauce, etc.\n",
    "Food items are utilized in the preparation of menu items.\n",
    "Each food item-is identified by a unique food item number.\n",
    "'''"
   ],
   "outputs": [],
   "execution_count": 13
  },
  {
   "metadata": {
    "ExecuteTime": {
     "end_time": "2024-10-17T10:15:11.271221Z",
     "start_time": "2024-10-17T10:14:58.585784Z"
    }
   },
   "cell_type": "code",
   "source": [
    "from run_pipeline import Text2UML\n",
    "\n",
    "request = Text2UML(input_text = input_text)"
   ],
   "outputs": [
    {
     "name": "stdout",
     "output_type": "stream",
     "text": [
      "{'pipeline': 'entity,quote,supersense,event,coref', 'model': 'small'}\n"
     ]
    },
    {
     "name": "stderr",
     "output_type": "stream",
     "text": [
      "C:\\Users\\RAYMOND\\AppData\\Local\\pypoetry\\Cache\\virtualenvs\\text2uml-yWP-Bm0a-py3.9\\lib\\site-packages\\huggingface_hub\\file_download.py:1142: FutureWarning: `resume_download` is deprecated and will be removed in version 1.0.0. Downloads always resume when possible. If you want to force a new download, use `force_download=True`.\n",
      "  warnings.warn(\n",
      "C:\\Users\\RAYMOND\\AppData\\Local\\pypoetry\\Cache\\virtualenvs\\text2uml-yWP-Bm0a-py3.9\\lib\\site-packages\\transformers\\modeling_utils.py:463: FutureWarning: You are using `torch.load` with `weights_only=False` (the current default value), which uses the default pickle module implicitly. It is possible to construct malicious pickle data which will execute arbitrary code during unpickling (See https://github.com/pytorch/pytorch/blob/main/SECURITY.md#untrusted-models for more details). In a future release, the default value for `weights_only` will be flipped to `True`. This limits the functions that could be executed during unpickling. Arbitrary objects will no longer be allowed to be loaded via this mode unless they are explicitly allowlisted by the user via `torch.serialization.add_safe_globals`. We recommend you start setting `weights_only=True` for any use case where you don't have full control of the loaded file. Please open an issue on GitHub for any issues related to this experimental feature.\n",
      "  return torch.load(checkpoint_file, map_location=\"cpu\")\n",
      "C:\\Users\\RAYMOND\\AppData\\Local\\pypoetry\\Cache\\virtualenvs\\text2uml-yWP-Bm0a-py3.9\\lib\\site-packages\\booknlp\\english\\entity_tagger.py:22: FutureWarning: You are using `torch.load` with `weights_only=False` (the current default value), which uses the default pickle module implicitly. It is possible to construct malicious pickle data which will execute arbitrary code during unpickling (See https://github.com/pytorch/pytorch/blob/main/SECURITY.md#untrusted-models for more details). In a future release, the default value for `weights_only` will be flipped to `True`. This limits the functions that could be executed during unpickling. Arbitrary objects will no longer be allowed to be loaded via this mode unless they are explicitly allowlisted by the user via `torch.serialization.add_safe_globals`. We recommend you start setting `weights_only=True` for any use case where you don't have full control of the loaded file. Please open an issue on GitHub for any issues related to this experimental feature.\n",
      "  self.model.load_state_dict(torch.load(model_file, map_location=device))\n",
      "C:\\Users\\RAYMOND\\AppData\\Local\\pypoetry\\Cache\\virtualenvs\\text2uml-yWP-Bm0a-py3.9\\lib\\site-packages\\booknlp\\english\\bert_qa.py:20: FutureWarning: You are using `torch.load` with `weights_only=False` (the current default value), which uses the default pickle module implicitly. It is possible to construct malicious pickle data which will execute arbitrary code during unpickling (See https://github.com/pytorch/pytorch/blob/main/SECURITY.md#untrusted-models for more details). In a future release, the default value for `weights_only` will be flipped to `True`. This limits the functions that could be executed during unpickling. Arbitrary objects will no longer be allowed to be loaded via this mode unless they are explicitly allowlisted by the user via `torch.serialization.add_safe_globals`. We recommend you start setting `weights_only=True` for any use case where you don't have full control of the loaded file. Please open an issue on GitHub for any issues related to this experimental feature.\n",
      "  self.model.load_state_dict(torch.load(modelFile, map_location=device))\n",
      "C:\\Users\\RAYMOND\\AppData\\Local\\pypoetry\\Cache\\virtualenvs\\text2uml-yWP-Bm0a-py3.9\\lib\\site-packages\\booknlp\\english\\litbank_coref.py:19: FutureWarning: You are using `torch.load` with `weights_only=False` (the current default value), which uses the default pickle module implicitly. It is possible to construct malicious pickle data which will execute arbitrary code during unpickling (See https://github.com/pytorch/pytorch/blob/main/SECURITY.md#untrusted-models for more details). In a future release, the default value for `weights_only` will be flipped to `True`. This limits the functions that could be executed during unpickling. Arbitrary objects will no longer be allowed to be loaded via this mode unless they are explicitly allowlisted by the user via `torch.serialization.add_safe_globals`. We recommend you start setting `weights_only=True` for any use case where you don't have full control of the loaded file. Please open an issue on GitHub for any issues related to this experimental feature.\n",
      "  self.model.load_state_dict(torch.load(modelFile, map_location=device))\n"
     ]
    },
    {
     "name": "stdout",
     "output_type": "stream",
     "text": [
      "--- startup: 3.672 seconds ---\n",
      "--- spacy: 0.059 seconds ---\n",
      "--- entities: 0.817 seconds ---\n",
      "--- quotes: 0.000 seconds ---\n",
      "--- attribution: 0.112 seconds ---\n",
      "--- name coref: 0.000 seconds ---\n",
      "--- coref: 1.789 seconds ---\n",
      "--- TOTAL (excl. startup): 2.783 seconds ---, 668 words\n"
     ]
    },
    {
     "name": "stderr",
     "output_type": "stream",
     "text": [
      "C:\\Users\\RAYMOND\\AppData\\Local\\pypoetry\\Cache\\virtualenvs\\text2uml-yWP-Bm0a-py3.9\\lib\\site-packages\\sklearn\\base.py:324: UserWarning: Trying to unpickle estimator RandomizedSearchCV from version 0.23.2 when using version 1.0.1. This might lead to breaking code or invalid results. Use at your own risk. For more info please refer to:\n",
      "https://scikit-learn.org/stable/modules/model_persistence.html#security-maintainability-limitations\n",
      "  warnings.warn(\n"
     ]
    }
   ],
   "execution_count": 14
  },
  {
   "cell_type": "markdown",
   "metadata": {},
   "source": [
    "## Summarization"
   ]
  },
  {
   "cell_type": "code",
   "metadata": {
    "ExecuteTime": {
     "end_time": "2024-10-17T10:15:11.677282Z",
     "start_time": "2024-10-17T10:15:11.610336Z"
    }
   },
   "source": "filtered_entity = request.summarization.get_filtered_entities()",
   "outputs": [
    {
     "name": "stderr",
     "output_type": "stream",
     "text": [
      "X:\\research\\text2uml\\summarization.py:42: FutureWarning: The frame.append method is deprecated and will be removed from pandas in a future version. Use pandas.concat instead.\n",
      "  grouped_entities[current_group] = grouped_entities[current_group].append(current_row,\n"
     ]
    }
   ],
   "execution_count": 15
  },
  {
   "metadata": {
    "ExecuteTime": {
     "end_time": "2024-10-17T10:15:11.708903Z",
     "start_time": "2024-10-17T10:15:11.694930Z"
    }
   },
   "cell_type": "code",
   "source": "filtered_entity",
   "outputs": [
    {
     "data": {
      "text/plain": [
       "{'': [1.0],\n",
       " 'fine italian restaurant': [2.0],\n",
       " 'celebrity': [5.0],\n",
       " 'reservation': [7.0, 10.0],\n",
       " 'person reservation': [8.0],\n",
       " 'individual': [9.0],\n",
       " 'several restaurant manager': [12.0],\n",
       " 'manager': [13.0, 22.0],\n",
       " 'chef': [14.0],\n",
       " 'guest': [15.0],\n",
       " 'waiter': [16.0, 33.0, 34.0, 35.0],\n",
       " 'bus personnel': [18.0],\n",
       " 'cook dishwasher': [20.0],\n",
       " 'bus person dishwasher': [27.0],\n",
       " 'person': [28.0, 29.0],\n",
       " 'reservation party': [31.0],\n",
       " 'restaurant': [36.0],\n",
       " 'fountain': [37.0]}"
      ]
     },
     "execution_count": 16,
     "metadata": {},
     "output_type": "execute_result"
    }
   ],
   "execution_count": 16
  },
  {
   "cell_type": "code",
   "metadata": {
    "ExecuteTime": {
     "end_time": "2024-10-17T10:15:11.878909Z",
     "start_time": "2024-10-17T10:15:11.840766Z"
    }
   },
   "source": "filtered_text = request.summarization.get_filtered_text(['reservation'])",
   "outputs": [
    {
     "name": "stderr",
     "output_type": "stream",
     "text": [
      "X:\\research\\text2uml\\summarization.py:42: FutureWarning: The frame.append method is deprecated and will be removed from pandas in a future version. Use pandas.concat instead.\n",
      "  grouped_entities[current_group] = grouped_entities[current_group].append(current_row,\n"
     ]
    }
   ],
   "execution_count": 17
  },
  {
   "metadata": {
    "ExecuteTime": {
     "end_time": "2024-10-17T10:15:11.925933Z",
     "start_time": "2024-10-17T10:15:11.908834Z"
    }
   },
   "cell_type": "code",
   "source": "filtered_text",
   "outputs": [
    {
     "data": {
      "text/plain": [
       "['The reservation also captures the name and phone number of the person making the reservation .',\n",
       " 'Additional reservation information captured when an individual makes a reservation includes seating preference ( inside or patio ) and smoking preference ( smoking or nonsmoking ) .',\n",
       " 'When a reservation is made , Romano associates a specific tal4 number(s ) to the reservation .',\n",
       " \"When the reservation party arrives at Romano 's the reservation is assigned to one waiter .\"]"
      ]
     },
     "execution_count": 18,
     "metadata": {},
     "output_type": "execute_result"
    }
   ],
   "execution_count": 18
  },
  {
   "cell_type": "markdown",
   "metadata": {},
   "source": [
    "## Bucketing"
   ]
  },
  {
   "cell_type": "code",
   "metadata": {
    "ExecuteTime": {
     "end_time": "2024-10-17T10:15:11.988461Z",
     "start_time": "2024-10-17T10:15:11.967318Z"
    }
   },
   "source": [
    "request.bucketing.apply_bucketing()"
   ],
   "outputs": [
    {
     "data": {
      "text/plain": [
       "{'class': ['Additional reservation information captured when an individual makes a reservation includes seating preference ( inside or patio ) and smoking preference ( smoking or nonsmoking ) .',\n",
       "  'When a reservation is made , Romano associates a specific tal4 number(s ) to the reservation .'],\n",
       " 'activity': ['Additional reservation information captured when an individual makes a reservation includes seating preference ( inside or patio ) and smoking preference ( smoking or nonsmoking ) .',\n",
       "  'When a reservation is made , Romano associates a specific tal4 number(s ) to the reservation .',\n",
       "  \"When the reservation party arrives at Romano 's the reservation is assigned to one waiter .\"],\n",
       " 'usecase': ['When a reservation is made , Romano associates a specific tal4 number(s ) to the reservation .']}"
      ]
     },
     "execution_count": 19,
     "metadata": {},
     "output_type": "execute_result"
    }
   ],
   "execution_count": 19
  },
  {
   "cell_type": "markdown",
   "metadata": {},
   "source": "## Metadata classification"
  },
  {
   "cell_type": "code",
   "metadata": {
    "ExecuteTime": {
     "end_time": "2024-10-17T10:15:12.542922Z",
     "start_time": "2024-10-17T10:15:12.030408Z"
    }
   },
   "source": [
    "request.classification.get_prediction()"
   ],
   "outputs": [
    {
     "data": {
      "text/plain": [
       "{'class': ['Additional reservation information captured when an individual makes a reservation includes seating preference ( inside or patio ) and smoking preference ( smoking or nonsmoking ) . When a reservation is made , Romano associates a specific tal4 number(s ) to the reservation .'],\n",
       " 'attr': []}"
      ]
     },
     "execution_count": 20,
     "metadata": {},
     "output_type": "execute_result"
    }
   ],
   "execution_count": 20
  }
 ],
 "metadata": {
  "kernelspec": {
   "display_name": "Python 3",
   "language": "python",
   "name": "python3"
  },
  "language_info": {
   "codemirror_mode": {
    "name": "ipython",
    "version": 3
   },
   "file_extension": ".py",
   "mimetype": "text/x-python",
   "name": "python",
   "nbconvert_exporter": "python",
   "pygments_lexer": "ipython3",
   "version": "3.9.7"
  }
 },
 "nbformat": 4,
 "nbformat_minor": 4
}
