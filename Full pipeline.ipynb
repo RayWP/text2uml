{
 "cells": [
  {
   "metadata": {
    "ExecuteTime": {
     "end_time": "2024-10-07T14:20:56.921827Z",
     "start_time": "2024-10-07T14:20:51.386301Z"
    }
   },
   "cell_type": "code",
   "source": [
    "# optional step\n",
    "import nltk\n",
    "nltk.download('punkt_tab')"
   ],
   "outputs": [
    {
     "name": "stderr",
     "output_type": "stream",
     "text": [
      "[nltk_data] Downloading package punkt_tab to\n",
      "[nltk_data]     C:\\Users\\RAYMOND\\AppData\\Roaming\\nltk_data...\n",
      "[nltk_data]   Package punkt_tab is already up-to-date!\n"
     ]
    },
    {
     "data": {
      "text/plain": [
       "True"
      ]
     },
     "execution_count": 1,
     "metadata": {},
     "output_type": "execute_result"
    }
   ],
   "execution_count": 1
  },
  {
   "cell_type": "code",
   "metadata": {
    "ExecuteTime": {
     "end_time": "2024-10-07T14:20:57.689715Z",
     "start_time": "2024-10-07T14:20:57.685320Z"
    }
   },
   "source": [
    "input_text = '''\n",
    "Romano's is the finest Italian restaurant in the city.\n",
    "Unless you are a celebrity or a good friend of Romano you will need a reservation.\n",
    "A reservation is made for a specific time, date and number of people.\n",
    "The reservation also captures the name and phone number of the person making the reservation.\n",
    "Each reservation is assigned a unique reservation number.\n",
    "There are two categories of reservations at Romano's: individual reservations and banquet reservations.\n",
    "Additional reservation information captured when an individual makes a reservation includes seating preference (inside or patio) and smoking preference (smoking or nonsmoking).\n",
    "Additional reservation information captured for banquet reservations includes the group name and the method of payment.\n",
    "Seating at Romano's is limited.\n",
    "Romano's has a fixed number of tables.\n",
    "Each table is identified by a unique table number.\n",
    "Each of the tables is further described by a unique free form description such as \"located by the North window\", \"located in front of the fountain\", \"by the kitchen door\".\n",
    "Each table is classified as a 2-person, 4-person or 6-person table.\n",
    "When a reservation is made, Romano associates a specific tal4 number(s) to the reservation.\n",
    "A table can be utilized many times over the evening by many reservations.\n",
    "Romano tends to overbook tables.\n",
    "Therefore, there can be overlapping table reservations.\n",
    "The management structure at Romano's is hierarchical.\n",
    "There are several restaurant managers who report to Romano.\n",
    "The managers are responsible for managing the Maitre'd and the chefs as well as ensuring that the guests have a pleasant dining experience.\n",
    "The Maitre'd is responsible for managing the waiters, bartenders and bus personnel.\n",
    "The Chefs are responsible for managing the cooks and dishwashers.\n",
    "Each person working for Romano's must be classified as either a manager, Maitre'd, waiter ,bartender, chef, cook, bus person or dishwasher.\n",
    "Additional information maintained by Romano's for each person includes the persons name, date of birth and drivers license number.\n",
    "When the reservation party arrives at Romano's the reservation is assigned to one waiter.\n",
    "A waiter can be assigned to many reservations during the course of the evening.\n",
    "The menu at Romano's is exquisite.\n",
    "There are many exciting and exotic items.\n",
    "Each menu item is identified by a unique menu item number.\n",
    "Information maintained by Romano's for each menu item includes an item description of (e.g. \"chicken marsala\", \"fish soup\", \"endive salad\",\"1988 Merlot wine\", etc.), and item prep time.\n",
    "Each menu item is classified by Romano's as \"appetizer\", \"entree\", \"dessert\" or \"beverage\".\n",
    "The price of each menu item can vary based on the time of day.\n",
    "For example, some of the menu items have different lunch and dinner prices.\n",
    "Some of the menu items change prices for happy hour.\n",
    "In order to calculate the check at the end of the dinner, the waiter maintains a list, by reservation number, of the menu items ordered and the time that the menu item was ordered.\n",
    "In other words, each reservation can be associated with many menu items and a menu item can be associated with many reservations.\n",
    "In addition to menu items, Romano's maintains a list of the food items that are utilized by the restaurant such as chicken, mushrooms, bread sticks, red sauce, cream sauce, etc.\n",
    "Food items are utilized in the preparation of menu items.\n",
    "Each food item-is identified by a unique food item number.\n",
    "'''"
   ],
   "outputs": [],
   "execution_count": 2
  },
  {
   "metadata": {
    "ExecuteTime": {
     "end_time": "2024-10-07T14:21:37.601887Z",
     "start_time": "2024-10-07T14:20:57.881465Z"
    }
   },
   "cell_type": "code",
   "source": [
    "from run_pipeline import Text2UML\n",
    "\n",
    "request = Text2UML(input_text = input_text)"
   ],
   "outputs": [
    {
     "name": "stderr",
     "output_type": "stream",
     "text": [
      "C:\\Users\\RAYMOND\\AppData\\Local\\pypoetry\\Cache\\virtualenvs\\text2uml-yWP-Bm0a-py3.11\\Lib\\site-packages\\booknlp\\booknlp.py:50: SyntaxWarning: \"is\" with a literal. Did you mean \"==\"?\n",
      "  if __name__ is \"__main__\":\n"
     ]
    },
    {
     "name": "stdout",
     "output_type": "stream",
     "text": [
      "using device cpu\n",
      "{'pipeline': 'entity,quote,supersense,event,coref', 'model': 'small'}\n"
     ]
    },
    {
     "ename": "OSError",
     "evalue": "[E050] Can't find model 'en_core_web_sm'. It doesn't seem to be a Python package or a valid path to a data directory.",
     "output_type": "error",
     "traceback": [
      "\u001B[1;31m---------------------------------------------------------------------------\u001B[0m",
      "\u001B[1;31mOSError\u001B[0m                                   Traceback (most recent call last)",
      "Cell \u001B[1;32mIn[3], line 3\u001B[0m\n\u001B[0;32m      1\u001B[0m \u001B[38;5;28;01mfrom\u001B[39;00m \u001B[38;5;21;01mrun_pipeline\u001B[39;00m \u001B[38;5;28;01mimport\u001B[39;00m Text2UML\n\u001B[1;32m----> 3\u001B[0m request \u001B[38;5;241m=\u001B[39m \u001B[43mText2UML\u001B[49m\u001B[43m(\u001B[49m\u001B[43minput_text\u001B[49m\u001B[43m \u001B[49m\u001B[38;5;241;43m=\u001B[39;49m\u001B[43m \u001B[49m\u001B[43minput_text\u001B[49m\u001B[43m)\u001B[49m\n",
      "File \u001B[1;32mX:\\research\\text2uml\\run_pipeline.py:40\u001B[0m, in \u001B[0;36mText2UML.__init__\u001B[1;34m(self, source_file, input_text)\u001B[0m\n\u001B[0;32m     37\u001B[0m \u001B[38;5;28mself\u001B[39m\u001B[38;5;241m.\u001B[39moutput_dir \u001B[38;5;241m=\u001B[39m \u001B[38;5;124mf\u001B[39m\u001B[38;5;124m'\u001B[39m\u001B[38;5;124moutput/\u001B[39m\u001B[38;5;132;01m{\u001B[39;00m\u001B[38;5;28mself\u001B[39m\u001B[38;5;241m.\u001B[39mid\u001B[38;5;132;01m}\u001B[39;00m\u001B[38;5;124m'\u001B[39m\n\u001B[0;32m     39\u001B[0m \u001B[38;5;66;03m# Generate text data\u001B[39;00m\n\u001B[1;32m---> 40\u001B[0m \u001B[38;5;28mself\u001B[39m\u001B[38;5;241m.\u001B[39mtokens \u001B[38;5;241m=\u001B[39m \u001B[38;5;28;43mself\u001B[39;49m\u001B[38;5;241;43m.\u001B[39;49m\u001B[43mgenerate_text_data\u001B[49m\u001B[43m(\u001B[49m\u001B[43m)\u001B[49m\n\u001B[0;32m     42\u001B[0m \u001B[38;5;66;03m# Attach modules\u001B[39;00m\n\u001B[0;32m     43\u001B[0m \u001B[38;5;28mself\u001B[39m\u001B[38;5;241m.\u001B[39msummarization \u001B[38;5;241m=\u001B[39m Summarizer(\n\u001B[0;32m     44\u001B[0m     \u001B[38;5;28mself\u001B[39m\u001B[38;5;241m.\u001B[39mtokens, \u001B[38;5;28mself\u001B[39m\u001B[38;5;241m.\u001B[39mentities, \u001B[38;5;28mself\u001B[39m\u001B[38;5;241m.\u001B[39mset_saved_text)\n",
      "File \u001B[1;32mX:\\research\\text2uml\\run_pipeline.py:57\u001B[0m, in \u001B[0;36mText2UML.generate_text_data\u001B[1;34m(self)\u001B[0m\n\u001B[0;32m     55\u001B[0m \u001B[38;5;28;01mdef\u001B[39;00m \u001B[38;5;21mgenerate_text_data\u001B[39m(\u001B[38;5;28mself\u001B[39m):\n\u001B[0;32m     56\u001B[0m     \u001B[38;5;66;03m# Initialize BookNLP\u001B[39;00m\n\u001B[1;32m---> 57\u001B[0m     booknlp \u001B[38;5;241m=\u001B[39m \u001B[43mBookNLP\u001B[49m\u001B[43m(\u001B[49m\u001B[38;5;124;43m'\u001B[39;49m\u001B[38;5;124;43men\u001B[39;49m\u001B[38;5;124;43m'\u001B[39;49m\u001B[43m,\u001B[49m\u001B[43m \u001B[49m\u001B[43m{\u001B[49m\n\u001B[0;32m     58\u001B[0m \u001B[43m        \u001B[49m\u001B[38;5;124;43m'\u001B[39;49m\u001B[38;5;124;43mpipeline\u001B[39;49m\u001B[38;5;124;43m'\u001B[39;49m\u001B[43m:\u001B[49m\u001B[43m \u001B[49m\u001B[38;5;124;43m'\u001B[39;49m\u001B[38;5;124;43mentity,quote,supersense,event,coref\u001B[39;49m\u001B[38;5;124;43m'\u001B[39;49m\u001B[43m,\u001B[49m\n\u001B[0;32m     59\u001B[0m \u001B[43m        \u001B[49m\u001B[38;5;124;43m'\u001B[39;49m\u001B[38;5;124;43mmodel\u001B[39;49m\u001B[38;5;124;43m'\u001B[39;49m\u001B[43m:\u001B[49m\u001B[43m \u001B[49m\u001B[38;5;124;43m'\u001B[39;49m\u001B[38;5;124;43msmall\u001B[39;49m\u001B[38;5;124;43m'\u001B[39;49m\u001B[43m,\u001B[49m\n\u001B[0;32m     60\u001B[0m \u001B[43m    \u001B[49m\u001B[43m}\u001B[49m\u001B[43m)\u001B[49m\n\u001B[0;32m     62\u001B[0m     \u001B[38;5;66;03m# Process source text\u001B[39;00m\n\u001B[0;32m     63\u001B[0m     booknlp\u001B[38;5;241m.\u001B[39mprocess(\u001B[38;5;28mself\u001B[39m\u001B[38;5;241m.\u001B[39msource, \u001B[38;5;28mself\u001B[39m\u001B[38;5;241m.\u001B[39moutput_dir, \u001B[38;5;28mself\u001B[39m\u001B[38;5;241m.\u001B[39mid)\n",
      "File \u001B[1;32m~\\AppData\\Local\\pypoetry\\Cache\\virtualenvs\\text2uml-yWP-Bm0a-py3.11\\Lib\\site-packages\\booknlp\\booknlp.py:14\u001B[0m, in \u001B[0;36mBookNLP.__init__\u001B[1;34m(self, language, model_params)\u001B[0m\n\u001B[0;32m     11\u001B[0m \u001B[38;5;28;01mdef\u001B[39;00m \u001B[38;5;21m__init__\u001B[39m(\u001B[38;5;28mself\u001B[39m, language, model_params):\n\u001B[0;32m     13\u001B[0m \t\u001B[38;5;28;01mif\u001B[39;00m language \u001B[38;5;241m==\u001B[39m \u001B[38;5;124m\"\u001B[39m\u001B[38;5;124men\u001B[39m\u001B[38;5;124m\"\u001B[39m:\n\u001B[1;32m---> 14\u001B[0m \t\t\u001B[38;5;28mself\u001B[39m\u001B[38;5;241m.\u001B[39mbooknlp\u001B[38;5;241m=\u001B[39m\u001B[43mEnglishBookNLP\u001B[49m\u001B[43m(\u001B[49m\u001B[43mmodel_params\u001B[49m\u001B[43m)\u001B[49m\n",
      "File \u001B[1;32m~\\AppData\\Local\\pypoetry\\Cache\\virtualenvs\\text2uml-yWP-Bm0a-py3.11\\Lib\\site-packages\\booknlp\\english\\english_booknlp.py:36\u001B[0m, in \u001B[0;36mEnglishBookNLP.__init__\u001B[1;34m(self, model_params)\u001B[0m\n\u001B[0;32m     33\u001B[0m \u001B[38;5;28;01mif\u001B[39;00m \u001B[38;5;124m\"\u001B[39m\u001B[38;5;124mspacy_model\u001B[39m\u001B[38;5;124m\"\u001B[39m \u001B[38;5;129;01min\u001B[39;00m model_params:\n\u001B[0;32m     34\u001B[0m \tspacy_model\u001B[38;5;241m=\u001B[39mmodel_params[\u001B[38;5;124m\"\u001B[39m\u001B[38;5;124mspacy_model\u001B[39m\u001B[38;5;124m\"\u001B[39m]\n\u001B[1;32m---> 36\u001B[0m spacy_nlp \u001B[38;5;241m=\u001B[39m \u001B[43mspacy\u001B[49m\u001B[38;5;241;43m.\u001B[39;49m\u001B[43mload\u001B[49m\u001B[43m(\u001B[49m\u001B[43mspacy_model\u001B[49m\u001B[43m,\u001B[49m\u001B[43m \u001B[49m\u001B[43mdisable\u001B[49m\u001B[38;5;241;43m=\u001B[39;49m\u001B[43m[\u001B[49m\u001B[38;5;124;43m\"\u001B[39;49m\u001B[38;5;124;43mner\u001B[39;49m\u001B[38;5;124;43m\"\u001B[39;49m\u001B[43m]\u001B[49m\u001B[43m)\u001B[49m\n\u001B[0;32m     38\u001B[0m valid_keys\u001B[38;5;241m=\u001B[39m\u001B[38;5;28mset\u001B[39m(\u001B[38;5;124m\"\u001B[39m\u001B[38;5;124mentity,event,supersense,quote,coref\u001B[39m\u001B[38;5;124m\"\u001B[39m\u001B[38;5;241m.\u001B[39msplit(\u001B[38;5;124m\"\u001B[39m\u001B[38;5;124m,\u001B[39m\u001B[38;5;124m\"\u001B[39m))\n\u001B[0;32m     40\u001B[0m pipes\u001B[38;5;241m=\u001B[39mmodel_params[\u001B[38;5;124m\"\u001B[39m\u001B[38;5;124mpipeline\u001B[39m\u001B[38;5;124m\"\u001B[39m]\u001B[38;5;241m.\u001B[39msplit(\u001B[38;5;124m\"\u001B[39m\u001B[38;5;124m,\u001B[39m\u001B[38;5;124m\"\u001B[39m)\n",
      "File \u001B[1;32m~\\AppData\\Local\\pypoetry\\Cache\\virtualenvs\\text2uml-yWP-Bm0a-py3.11\\Lib\\site-packages\\spacy\\__init__.py:54\u001B[0m, in \u001B[0;36mload\u001B[1;34m(name, vocab, disable, enable, exclude, config)\u001B[0m\n\u001B[0;32m     30\u001B[0m \u001B[38;5;28;01mdef\u001B[39;00m \u001B[38;5;21mload\u001B[39m(\n\u001B[0;32m     31\u001B[0m     name: Union[\u001B[38;5;28mstr\u001B[39m, Path],\n\u001B[0;32m     32\u001B[0m     \u001B[38;5;241m*\u001B[39m,\n\u001B[1;32m   (...)\u001B[0m\n\u001B[0;32m     37\u001B[0m     config: Union[Dict[\u001B[38;5;28mstr\u001B[39m, Any], Config] \u001B[38;5;241m=\u001B[39m util\u001B[38;5;241m.\u001B[39mSimpleFrozenDict(),\n\u001B[0;32m     38\u001B[0m ) \u001B[38;5;241m-\u001B[39m\u001B[38;5;241m>\u001B[39m Language:\n\u001B[0;32m     39\u001B[0m \u001B[38;5;250m    \u001B[39m\u001B[38;5;124;03m\"\"\"Load a spaCy model from an installed package or a local path.\u001B[39;00m\n\u001B[0;32m     40\u001B[0m \n\u001B[0;32m     41\u001B[0m \u001B[38;5;124;03m    name (str): Package name or model path.\u001B[39;00m\n\u001B[1;32m   (...)\u001B[0m\n\u001B[0;32m     52\u001B[0m \u001B[38;5;124;03m    RETURNS (Language): The loaded nlp object.\u001B[39;00m\n\u001B[0;32m     53\u001B[0m \u001B[38;5;124;03m    \"\"\"\u001B[39;00m\n\u001B[1;32m---> 54\u001B[0m     \u001B[38;5;28;01mreturn\u001B[39;00m \u001B[43mutil\u001B[49m\u001B[38;5;241;43m.\u001B[39;49m\u001B[43mload_model\u001B[49m\u001B[43m(\u001B[49m\n\u001B[0;32m     55\u001B[0m \u001B[43m        \u001B[49m\u001B[43mname\u001B[49m\u001B[43m,\u001B[49m\n\u001B[0;32m     56\u001B[0m \u001B[43m        \u001B[49m\u001B[43mvocab\u001B[49m\u001B[38;5;241;43m=\u001B[39;49m\u001B[43mvocab\u001B[49m\u001B[43m,\u001B[49m\n\u001B[0;32m     57\u001B[0m \u001B[43m        \u001B[49m\u001B[43mdisable\u001B[49m\u001B[38;5;241;43m=\u001B[39;49m\u001B[43mdisable\u001B[49m\u001B[43m,\u001B[49m\n\u001B[0;32m     58\u001B[0m \u001B[43m        \u001B[49m\u001B[43menable\u001B[49m\u001B[38;5;241;43m=\u001B[39;49m\u001B[43menable\u001B[49m\u001B[43m,\u001B[49m\n\u001B[0;32m     59\u001B[0m \u001B[43m        \u001B[49m\u001B[43mexclude\u001B[49m\u001B[38;5;241;43m=\u001B[39;49m\u001B[43mexclude\u001B[49m\u001B[43m,\u001B[49m\n\u001B[0;32m     60\u001B[0m \u001B[43m        \u001B[49m\u001B[43mconfig\u001B[49m\u001B[38;5;241;43m=\u001B[39;49m\u001B[43mconfig\u001B[49m\u001B[43m,\u001B[49m\n\u001B[0;32m     61\u001B[0m \u001B[43m    \u001B[49m\u001B[43m)\u001B[49m\n",
      "File \u001B[1;32m~\\AppData\\Local\\pypoetry\\Cache\\virtualenvs\\text2uml-yWP-Bm0a-py3.11\\Lib\\site-packages\\spacy\\util.py:439\u001B[0m, in \u001B[0;36mload_model\u001B[1;34m(name, vocab, disable, enable, exclude, config)\u001B[0m\n\u001B[0;32m    437\u001B[0m \u001B[38;5;28;01mif\u001B[39;00m name \u001B[38;5;129;01min\u001B[39;00m OLD_MODEL_SHORTCUTS:\n\u001B[0;32m    438\u001B[0m     \u001B[38;5;28;01mraise\u001B[39;00m \u001B[38;5;167;01mIOError\u001B[39;00m(Errors\u001B[38;5;241m.\u001B[39mE941\u001B[38;5;241m.\u001B[39mformat(name\u001B[38;5;241m=\u001B[39mname, full\u001B[38;5;241m=\u001B[39mOLD_MODEL_SHORTCUTS[name]))  \u001B[38;5;66;03m# type: ignore[index]\u001B[39;00m\n\u001B[1;32m--> 439\u001B[0m \u001B[38;5;28;01mraise\u001B[39;00m \u001B[38;5;167;01mIOError\u001B[39;00m(Errors\u001B[38;5;241m.\u001B[39mE050\u001B[38;5;241m.\u001B[39mformat(name\u001B[38;5;241m=\u001B[39mname))\n",
      "\u001B[1;31mOSError\u001B[0m: [E050] Can't find model 'en_core_web_sm'. It doesn't seem to be a Python package or a valid path to a data directory."
     ]
    }
   ],
   "execution_count": 3
  },
  {
   "cell_type": "markdown",
   "metadata": {},
   "source": [
    "## Summarization"
   ]
  },
  {
   "cell_type": "code",
   "metadata": {},
   "source": "filtered_entity = request.summarization.get_filtered_entities()",
   "outputs": [],
   "execution_count": null
  },
  {
   "metadata": {},
   "cell_type": "code",
   "source": "filtered_entity",
   "outputs": [],
   "execution_count": null
  },
  {
   "cell_type": "code",
   "metadata": {},
   "source": [
    "request.summarization.get_filtered_text(['customer', 'vehicle', 'truck'])"
   ],
   "outputs": [],
   "execution_count": null
  },
  {
   "cell_type": "markdown",
   "metadata": {},
   "source": [
    "## Bucketing"
   ]
  },
  {
   "cell_type": "code",
   "metadata": {},
   "source": [
    "request.bucketing.apply_bucketing()"
   ],
   "outputs": [],
   "execution_count": null
  },
  {
   "cell_type": "markdown",
   "metadata": {},
   "source": "## Metadata classification"
  },
  {
   "cell_type": "code",
   "metadata": {},
   "source": [
    "request.classification.get_prediction()"
   ],
   "outputs": [],
   "execution_count": null
  }
 ],
 "metadata": {
  "kernelspec": {
   "display_name": "Python 3",
   "language": "python",
   "name": "python3"
  },
  "language_info": {
   "codemirror_mode": {
    "name": "ipython",
    "version": 3
   },
   "file_extension": ".py",
   "mimetype": "text/x-python",
   "name": "python",
   "nbconvert_exporter": "python",
   "pygments_lexer": "ipython3",
   "version": "3.9.7"
  }
 },
 "nbformat": 4,
 "nbformat_minor": 4
}
